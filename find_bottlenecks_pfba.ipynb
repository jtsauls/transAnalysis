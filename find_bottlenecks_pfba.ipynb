{
 "metadata": {
  "name": ""
 },
 "nbformat": 3,
 "nbformat_minor": 0,
 "worksheets": [
  {
   "cells": [
    {
     "cell_type": "code",
     "collapsed": false,
     "input": [
      "import numpy as np\n",
      "import pandas as pd\n",
      "from pickle import load\n",
      "import cobra as cp\n",
      "\n",
      "# Have to direct to folder to find module\n",
      "%cd /Users/jt/Desktop/palsson_rotation/transAnalysis/\n",
      "import transAnalysis as ta\n",
      "import fluxAnalysis\n",
      "import pfba_example\n",
      "\n",
      "filenameroot = \\\n",
      "    '/Users/jt/Desktop/palsson_rotation/transAnalysis/data/'\n",
      "\n",
      "# This makes it so changed modules are reloaded before lines are run     \n",
      "%load_ext autoreload\n",
      "%autoreload 2"
     ],
     "language": "python",
     "metadata": {},
     "outputs": [
      {
       "output_type": "stream",
       "stream": "stdout",
       "text": [
        "/Users/jt/Desktop/palsson_rotation/transAnalysis\n",
        "The autoreload extension is already loaded. To reload it, use:"
       ]
      },
      {
       "output_type": "stream",
       "stream": "stdout",
       "text": [
        "\n",
        "  %reload_ext autoreload\n"
       ]
      }
     ],
     "prompt_number": 7
    },
    {
     "cell_type": "code",
     "collapsed": false,
     "input": [
      "# Get model\n",
      "model_filename = filenameroot + 'iJO1366.pickle'\n",
      "f = open(model_filename, \"rb\")\n",
      "model_root = load(f)\n",
      "f.close()"
     ],
     "language": "python",
     "metadata": {},
     "outputs": [],
     "prompt_number": 8
    },
    {
     "cell_type": "code",
     "collapsed": false,
     "input": [
      "model = model_root.copy()"
     ],
     "language": "python",
     "metadata": {},
     "outputs": [],
     "prompt_number": 59
    },
    {
     "cell_type": "code",
     "collapsed": false,
     "input": [
      "# Make the fpkm to reactions dict\n",
      "fpkm_filename = filenameroot + 'bop27isoforms.fpkm_tracking' \n",
      "#fpkm_filename = filenameroot + 'anaerobe1_isoforms.fpkm_tracking'\n",
      "#fpkm_filename = filenameroot + 'anaerobe2_isoforms.fpkm_tracking'\n",
      "#fpkm_filename = filenameroot + 'rpoBisoforms.fpkm_tracking'\n",
      "\n",
      "gene_fpkm_dict = ta.make_gene_fpkm_dict(fpkm_filename)\n",
      "reaction_fpkm_dict = ta.make_reaction_fpkm_dict(model, gene_fpkm_dict)\n",
      "\n",
      "# Minspans and model are the same across everything\n",
      "minspan_filename = filenameroot + 'MinSpanPathways.xlsx'\n",
      "minspan_list = ta.make_minspan_list(minspan_filename)\n",
      "\n",
      "# Creat the dictionary linking fpkms to reactions. \n",
      "reaction_fpkm_dict = ta.make_reaction_fpkm_dict(model, \n",
      "                                                gene_fpkm_dict, 0)"
     ],
     "language": "python",
     "metadata": {},
     "outputs": [],
     "prompt_number": 60
    },
    {
     "cell_type": "code",
     "collapsed": false,
     "input": [
      "# Pull out the average per minspan. \n",
      "minspan_avg_w_rxn = ta.make_minspan_fpkm_list(\n",
      "                   minspan_list, reaction_fpkm_dict, sort=False)\n",
      "minspan_averages = zip(*minspan_avg_w_rxn)[0]\n",
      "\n",
      "# This needs work, need to calculate w/o respect to highly connected\n",
      "# reactions\n",
      "#print minspan_averages[:5]"
     ],
     "language": "python",
     "metadata": {},
     "outputs": [],
     "prompt_number": 61
    },
    {
     "cell_type": "code",
     "collapsed": false,
     "input": [
      "# Make a list of lists of fpkm values per reaction per minspan\n",
      "rxn_fpkms_by_minspan = []\n",
      "problem_rxn_names = []\n",
      "for minspan in minspan_list:\n",
      "    temp_fpkm_list = []\n",
      "    for reaction in minspan:\n",
      "        try:\n",
      "            # Need to catch nan so can compare min of list to average\n",
      "            if np.isnan(reaction_fpkm_dict[reaction]):\n",
      "                temp_fpkm_list.append('no data')\n",
      "            else:\n",
      "                temp_fpkm_list.append(reaction_fpkm_dict[reaction])\n",
      "        except:\n",
      "            if reaction not in problem_rxn_names:\n",
      "                problem_rxn_names.append(reaction)\n",
      "    rxn_fpkms_by_minspan.append(temp_fpkm_list)"
     ],
     "language": "python",
     "metadata": {},
     "outputs": [],
     "prompt_number": 62
    },
    {
     "cell_type": "code",
     "collapsed": false,
     "input": [
      "if False:\n",
      "    print minspan_averages[:5]\n",
      "    print rxn_fpkms_by_minspan[:5]\n",
      "    print len(problem_rxn_names)"
     ],
     "language": "python",
     "metadata": {},
     "outputs": [],
     "prompt_number": 63
    },
    {
     "cell_type": "code",
     "collapsed": false,
     "input": [
      "# Find bottleneck cases, where the minimum value of a minspan is less\n",
      "# that 0.1% of the average for the minspan. And there is flux in \n",
      "# Every reaction. \n",
      "bottlenecks = []\n",
      "i = 0\n",
      "for minspan_avg in minspan_averages:\n",
      "    # Stats on fpkms for rxns in the minspan\n",
      "    min_fpkm = min(rxn_fpkms_by_minspan[i])\n",
      "    if min_fpkm < 0.1 * minspan_avg:\n",
      "        bottlenecks.append(i)\n",
      "    i += 1\n",
      "    \n",
      "print('Number of bottlenecks', len(bottlenecks))\n",
      "\n",
      "# List of bottleneck minspans. \n",
      "bottleneck_list = np.array(minspan_list)\n",
      "bottleneck_list = bottleneck_list[bottlenecks]"
     ],
     "language": "python",
     "metadata": {},
     "outputs": [
      {
       "output_type": "stream",
       "stream": "stdout",
       "text": [
        "('Number of bottlenecks', 718)\n"
       ]
      }
     ],
     "prompt_number": 122
    },
    {
     "cell_type": "code",
     "collapsed": false,
     "input": [
      "if False:\n",
      "    index = 115\n",
      "    print bottlenecks[1]\n",
      "    print np.array(rxn_fpkms_by_minspan)[index]\n",
      "    print ('Minspan Averages', \n",
      "           np.array(minspan_averages)[index])\n",
      "    print np.array(minspan_list)[index]\n",
      "    #print bottleneck_list\n",
      "    print min(np.array(rxn_fpkms_by_minspan)[index])\n",
      "    print reaction_fpkm_dict['EX_2ddglcn_e']"
     ],
     "language": "python",
     "metadata": {},
     "outputs": [],
     "prompt_number": 65
    },
    {
     "cell_type": "code",
     "collapsed": false,
     "input": [
      "# Get pfba fluxes for wt pFBA and Eflux pFBA\n",
      "pfba_sol = pfba_example.run_pfba(model,\n",
      "                                 'Ec_biomass_iJO1366_core_53p95M')\n",
      "if False:\n",
      "    print('pFBA f', pfba_sol['Ec_biomass_iJO1366_core_53p95M'])\n",
      "    print('pFBA glucose uptakes', pfba_sol['EX_glc_e'])\n",
      "    print('pFBA sum of fluxes', sum(np.abs(pfba_sol.values())))\n",
      "    model.optimize()\n",
      "    print('FBA sum of fluxes', sum(np.abs(model.solution.x)))"
     ],
     "language": "python",
     "metadata": {},
     "outputs": [],
     "prompt_number": 66
    },
    {
     "cell_type": "code",
     "collapsed": false,
     "input": [
      " # There is no control of glu. Meaningful below. \n",
      "print ('Uptake on glucose from fpkm', reaction_fpkm_dict['EX_glc_e'])"
     ],
     "language": "python",
     "metadata": {},
     "outputs": [
      {
       "output_type": "stream",
       "stream": "stdout",
       "text": [
        "('Uptake on glucose from fpkm', nan)\n"
       ]
      }
     ],
     "prompt_number": 73
    },
    {
     "cell_type": "code",
     "collapsed": false,
     "input": [
      "Eflux_model = model.copy()\n",
      "\n",
      "# Now do Eflux\n",
      "# Adjust bounds \n",
      "v=list(reaction_fpkm_dict.values())\n",
      "k=list(reaction_fpkm_dict.keys())\n",
      "v = abs(v / max(v))  # abs should be superfulous here\n",
      "fpkm_array = zip(k, v)\n",
      "\n",
      "# Optional step that then requires weighting later. \n",
      "# Unlike the matlab implementation, this respects import bounds.\n",
      "mode = False\n",
      "# Otherwise does it like paper eflux. \n",
      "# Assumes that max value is 1000\n",
      "if mode:\n",
      "    for reaction in Eflux_model.reactions:\n",
      "        if reaction.lower_bound < 0:\n",
      "            reaction.lower_bound = reaction.lower_bound / 1000\n",
      "        else: \n",
      "            reaction.lower_bound = 0\n",
      "        if reaction.upper_bound > 0:\n",
      "            reaction.upper_bound = reaction.upper_bound / 1000\n",
      "        else:\n",
      "            reaction.upper_bound = 0\n",
      "else:\n",
      "    for reaction in Eflux_model.reactions:\n",
      "        if reaction.lower_bound < 0:\n",
      "            reaction.lower_bound = -1\n",
      "        else: \n",
      "            reaction.lower_bound = 0\n",
      "        if reaction.upper_bound > 0:\n",
      "            reaction.upper_bound = 1\n",
      "        else:\n",
      "            reaction.upper_bound = 0\n",
      "\n",
      "# Would be faster to just remove nan before looping\n",
      "for rxn in fpkm_array:  # fpkm_array holds fpkm data\n",
      "    if not np.isnan(rxn[1]):\n",
      "        rxn_name = rxn[0]\n",
      "        cobrarxn = Eflux_model.reactions.get_by_id(rxn_name)\n",
      "        cobrarxn.lower_bound = cobrarxn.lower_bound * rxn[1]\n",
      "        cobrarxn.upper_bound = cobrarxn.upper_bound * rxn[1]\n",
      "    else:\n",
      "        pass\n",
      "        # print rxn[0] + ' had val nan'\n",
      "        \n",
      "# pFBA for adjusted model\n",
      "Eflux_pfba_sol = pfba_example.run_pfba(Eflux_model,\n",
      "                 'Ec_biomass_iJO1366_core_53p95M')"
     ],
     "language": "python",
     "metadata": {},
     "outputs": [],
     "prompt_number": 74
    },
    {
     "cell_type": "code",
     "collapsed": false,
     "input": [
      "if True:\n",
      "    print('Eflux pFBA f', \n",
      "          Eflux_pfba_sol['Ec_biomass_iJO1366_core_53p95M'])\n",
      "    print('Eflux pFBA glucose uptakes', Eflux_pfba_sol['EX_glc_e'])\n",
      "    print('Eflux pFBA sum of fluxes', \n",
      "          sum(np.abs(Eflux_pfba_sol.values())))\n",
      "    Eflux_model.optimize()\n",
      "    print('Eflux FBA f', Eflux_model.solution.f)\n",
      "    print('Eflux FBA glucose uptake', \n",
      "          Eflux_model.solution.x_dict['EX_glc_e'])\n",
      "    print('Eflux FBA sum of fluxes', sum(np.abs(Eflux_model.solution.x)))"
     ],
     "language": "python",
     "metadata": {},
     "outputs": [
      {
       "output_type": "stream",
       "stream": "stdout",
       "text": [
        "('Eflux pFBA f', 2.0282607686235232e-05)\n",
        "('Eflux pFBA glucose uptakes', -0.0002951486890653821)\n",
        "('Eflux pFBA sum of fluxes', 0.015684645225028042)\n",
        "('Eflux FBA f', 2.0282607686235232e-05)"
       ]
      },
      {
       "output_type": "stream",
       "stream": "stdout",
       "text": [
        "\n",
        "('Eflux FBA glucose uptake', -0.01824943600760809)\n",
        "('Eflux FBA sum of fluxes', 0.84545262675527466)\n"
       ]
      }
     ],
     "prompt_number": 75
    },
    {
     "cell_type": "code",
     "collapsed": false,
     "input": [
      "# Weight Eflux solution by glucose uptake \n",
      "scale_reaction_name = 'EX_glc_e'\n",
      "# Should be -10.0 (what it was in the original model\n",
      "scale_value = pfba_sol[scale_reaction_name]\n",
      "scale_flux = Eflux_pfba_sol[scale_reaction_name]\n",
      "scale_by= abs(scale_value / scale_flux)\n",
      "\n",
      "print('Scale stats', scale_reaction_name, scale_value, \n",
      "      scale_flux, scale_by)\n",
      "\n",
      "# These are the pFBA fluxes\n",
      "for k, v in Eflux_pfba_sol.iteritems():\n",
      "    Eflux_pfba_sol[k] = v * scale_by\n",
      "    \n",
      "# Also figure out what the scaled bounds would be.\n",
      "for reaction in Eflux_model.reactions:  # fpkm_array holds fpkm data\n",
      "    reaction.lower_bound = reaction.lower_bound * scale_by\n",
      "    reaction.upper_bound = reaction.upper_bound * scale_by\n"
     ],
     "language": "python",
     "metadata": {},
     "outputs": [
      {
       "output_type": "stream",
       "stream": "stdout",
       "text": [
        "('Scale stats', 'EX_glc_e', -10.0, -0.0002951486890653821, 33881.22790470797)\n"
       ]
      }
     ],
     "prompt_number": 76
    },
    {
     "cell_type": "code",
     "collapsed": false,
     "input": [
      "if True:\n",
      "    print('Eflux pFBA f', \n",
      "          Eflux_pfba_sol['Ec_biomass_iJO1366_core_53p95M'])\n",
      "    print('Eflux pFBA glucose uptakes', Eflux_pfba_sol['EX_glc_e'])\n",
      "    print('Eflux pFBA sum of fluxes', \n",
      "          sum(np.abs(Eflux_pfba_sol.values())))\n",
      "    print('pFBA f', pfba_sol['Ec_biomass_iJO1366_core_53p95M'])\n",
      "    print('pFBA glucose uptakes', pfba_sol['EX_glc_e'])\n",
      "    print('pFBA sum of fluxes', sum(np.abs(pfba_sol.values())))"
     ],
     "language": "python",
     "metadata": {},
     "outputs": [
      {
       "output_type": "stream",
       "stream": "stdout",
       "text": [
        "('Eflux pFBA f', 0.6871996535191175)\n",
        "('Eflux pFBA glucose uptakes', -10.0)\n",
        "('Eflux pFBA sum of fluxes', 531.41503947366493)\n",
        "('pFBA f', 0.9823718127269766)\n",
        "('pFBA glucose uptakes', -10.0)\n",
        "('pFBA sum of fluxes', 699.02227518394477)\n"
       ]
      }
     ],
     "prompt_number": 77
    },
    {
     "cell_type": "code",
     "collapsed": false,
     "input": [
      "print ('Index of bottlenecks (minspan number)', bottlenecks)"
     ],
     "language": "python",
     "metadata": {},
     "outputs": [
      {
       "output_type": "stream",
       "stream": "stdout",
       "text": [
        "('Index of bottlenecks (minspan number)', [97, 114, 279, 291, 296, 302, 370, 387, 465, 467, 473, 481, 508, 514, 549, 566, 568, 569, 593, 604, 607, 652, 653, 672, 719, 728])\n"
       ]
      }
     ],
     "prompt_number": 42
    },
    {
     "cell_type": "code",
     "collapsed": false,
     "input": [
      "# Need to find a minspan that is both a bottleneck AND\n",
      "# has flux in all reactions.\n",
      "bottlenecks_w_flux = []\n",
      "bottlenecks_wo_flux = []\n",
      "for minspan_id in bottlenecks:\n",
      "    Eflux_flux = []\n",
      "    names = pd.Series(np.array(minspan_list)[minspan_id])\n",
      "    for reaction_name in names:\n",
      "        #flux = Eflux_pfba_sol[reaction_name]\n",
      "        flux = Eflux_model.solution.x_dict[reaction_name]\n",
      "        Eflux_flux.append(flux)\n",
      "    #print Eflux_flux\n",
      "    #print min(np.abs(Eflux_flux))\n",
      "    if min(np.abs(Eflux_flux)) > 0:\n",
      "        bottlenecks_w_flux.append(minspan_id)\n",
      "        #print Eflux_flux\n",
      "    else:\n",
      "        bottlenecks_wo_flux.append(minspan_id)\n",
      "\n",
      "if True:       \n",
      "    print('Bottlenecks w/ flux', bottlenecks_w_flux)\n",
      "    print('No. of Bottlenecks w/o flux', len(bottlenecks_wo_flux)) "
     ],
     "language": "python",
     "metadata": {},
     "outputs": [
      {
       "output_type": "stream",
       "stream": "stdout",
       "text": [
        "('Bottlenecks w/ flux', [3, 4, 11, 14, 20, 24, 38])\n",
        "('No. of Bottlenecks w/o flux', 711)\n"
       ]
      }
     ],
     "prompt_number": 123
    },
    {
     "cell_type": "code",
     "collapsed": false,
     "input": [
      "# Now with bottlenecks and solutions, give way to look at data\n",
      "# Important variables\n",
      "# model - the model with normal bounds\n",
      "# pfba_sol - the dict from pfba solution\n",
      "# Eflux_model - the model with Eflux bounds\n",
      "# Eflux_pfba_sol - the dict from eflux pfba sol\n",
      "# fpkm_array - normalized list of tuples with reaction name and fpkm\n",
      "# rxn_fpkms_by_minspan - dict with the fpkms per rxn per minspan\n",
      "\n",
      "# Reaction to look at\n",
      "index = 38\n",
      "\n",
      "# Make series\n",
      "names = pd.Series(np.array(minspan_list)[index])\n",
      "pFBA_flux = []\n",
      "pFBA_lb = []\n",
      "pFBA_ub = []\n",
      "Eflux_flux = []\n",
      "Eflux_lb = []\n",
      "Eflux_ub = []\n",
      "fpkms = pd.Series(np.array(rxn_fpkms_by_minspan)[index])\n",
      "for reaction_name in names:\n",
      "    # Get information from normal model\n",
      "    reaction = model.reactions.get_by_id(reaction_name)\n",
      "    pFBA_flux.append(pfba_sol[reaction_name])\n",
      "    pFBA_lb.append(reaction.lower_bound)\n",
      "    pFBA_ub.append(reaction.upper_bound)\n",
      "    # Get information from Eflux model\n",
      "    reaction = Eflux_model.reactions.get_by_id(reaction_name)\n",
      "    Eflux_flux.append(Eflux_pfba_sol[reaction_name])\n",
      "    Eflux_lb.append(reaction.lower_bound)\n",
      "    Eflux_ub.append(reaction.upper_bound)\n",
      "    \n",
      "pFBA_flux = pd.Series(np.array(pFBA_flux))\n",
      "pFBA_lb = pd.Series(np.array(pFBA_lb))\n",
      "pFBA_ub = pd.Series(np.array(pFBA_ub))\n",
      "Eflux_flux = pd.Series(np.array(Eflux_flux))\n",
      "Eflux_lb = pd.Series(np.array(Eflux_lb))\n",
      "Eflux_ub = pd.Series(np.array(Eflux_ub))\n",
      "\n",
      "df = {'Names' : names,\n",
      "      'pFBA flux' : pFBA_flux,\n",
      "      'pFBA lb' : pFBA_lb,\n",
      "      'pFBA ub' : pFBA_ub,\n",
      "      'Eflux flux' : Eflux_flux,\n",
      "      'Eflux lb' : Eflux_lb,\n",
      "      'Eflux ub' : Eflux_ub,\n",
      "      'FPKMs' : fpkms}\n",
      "\n",
      "df = pd.DataFrame(df)\n",
      "print df"
     ],
     "language": "python",
     "metadata": {},
     "outputs": [
      {
       "output_type": "stream",
       "stream": "stdout",
       "text": [
        "   Eflux flux     Eflux lb      Eflux ub    FPKMs   Names  pFBA flux  pFBA lb  \\\n",
        "0    1.683323 -1065.825331   1065.825331  5883500    ADK1   2.578690    -1000   \n",
        "1   -0.036394  -261.401185    261.401185  1442970     PPM  -0.000661    -1000   \n",
        "2    0.600854 -1150.475430   1150.475430  6350780   PRPPS   0.916447    -1000   \n",
        "3    0.000000     0.000000      1.674466  9243.28  R15BPK   0.000000        0   \n",
        "4    0.000000     0.000000  33881.227905  no data    R1PK   0.000000        0   \n",
        "\n",
        "   pFBA ub  \n",
        "0     1000  \n",
        "1     1000  \n",
        "2     1000  \n",
        "3     1000  \n",
        "4     1000  \n"
       ]
      }
     ],
     "prompt_number": 127
    },
    {
     "cell_type": "code",
     "collapsed": false,
     "input": [
      "\n",
      "    "
     ],
     "language": "python",
     "metadata": {},
     "outputs": [],
     "prompt_number": 113
    },
    {
     "cell_type": "code",
     "collapsed": false,
     "input": [
      "# Scraps\n",
      "\n",
      "# For testing adjust of eflux bounds by scale. \n",
      "x = 0\n",
      "for reaction in Eflux_model.reactions:\n",
      "    print (reaction.lower_bound, reaction.upper_bound)\n",
      "    x += 1\n",
      "    if x > 10:\n",
      "        break"
     ],
     "language": "python",
     "metadata": {},
     "outputs": []
    },
    {
     "cell_type": "code",
     "collapsed": false,
     "input": [],
     "language": "python",
     "metadata": {},
     "outputs": [],
     "prompt_number": 113
    },
    {
     "cell_type": "code",
     "collapsed": false,
     "input": [],
     "language": "python",
     "metadata": {},
     "outputs": [],
     "prompt_number": 113
    },
    {
     "cell_type": "code",
     "collapsed": false,
     "input": [],
     "language": "python",
     "metadata": {},
     "outputs": [],
     "prompt_number": 113
    },
    {
     "cell_type": "code",
     "collapsed": false,
     "input": [],
     "language": "python",
     "metadata": {},
     "outputs": [],
     "prompt_number": 113
    },
    {
     "cell_type": "code",
     "collapsed": false,
     "input": [],
     "language": "python",
     "metadata": {},
     "outputs": []
    }
   ],
   "metadata": {}
  }
 ]
}