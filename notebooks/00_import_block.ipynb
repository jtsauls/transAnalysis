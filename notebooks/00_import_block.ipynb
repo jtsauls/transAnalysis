{
 "metadata": {
  "name": ""
 },
 "nbformat": 3,
 "nbformat_minor": 0,
 "worksheets": [
  {
   "cells": [
    {
     "cell_type": "markdown",
     "metadata": {},
     "source": [
      "This notebook just has useful starting blocks to cut//copy"
     ]
    },
    {
     "cell_type": "code",
     "collapsed": false,
     "input": [
      "import numpy as np\n",
      "from scipy import stats\n",
      "import matplotlib.pyplot as plt\n",
      "import pandas as pd\n",
      "from pickle import load # Can't get SBML to work, using pickle\n",
      "import cobra as cp\n",
      "from IPython.display import HTML\n",
      "from cobra.io import load_matlab_model\n",
      "\n",
      "# Have to direct to folder to find module\n",
      "%cd /Users/jt/Desktop/palsson_rotation/transAnalysis/\n",
      "import transAnalysis as ta\n",
      "\n",
      "filenameroot = \\\n",
      "    '/Users/jt/Desktop/palsson_rotation/transAnalysis/data/'\n",
      "\n",
      "# This makes it so changed modules are reloaded before lines run.     \n",
      "%load_ext autoreload\n",
      "%autoreload 2\n"
     ],
     "language": "python",
     "metadata": {},
     "outputs": [
      {
       "output_type": "stream",
       "stream": "stdout",
       "text": [
        "/Users/jt/Desktop/palsson_rotation/transAnalysis\n"
       ]
      }
     ],
     "prompt_number": 1
    },
    {
     "cell_type": "code",
     "collapsed": false,
     "input": [
      "# Get iJo model.\n",
      "model_filename = filenameroot + 'iJO1366.pickle'\n",
      "f = open(model_filename, \"rb\")\n",
      "model = load(f)\n",
      "f.close()"
     ],
     "language": "python",
     "metadata": {},
     "outputs": [],
     "prompt_number": 2
    },
    {
     "cell_type": "code",
     "collapsed": false,
     "input": [
      "model.metabolites.glu"
     ],
     "language": "python",
     "metadata": {},
     "outputs": []
    },
    {
     "cell_type": "code",
     "collapsed": false,
     "input": [
      "# Get core model.\n",
      "# Core model (w/ 95 reactions), can hold flux\n",
      "model = load_matlab_model(filenameroot + \"ecoli_core_model.mat\", \"model\")"
     ],
     "language": "python",
     "metadata": {},
     "outputs": []
    },
    {
     "cell_type": "code",
     "collapsed": false,
     "input": [
      "fpkm_filename = filenameroot + 'bop27_1_isoforms.fpkm_tracking' \n",
      "#fpkm_filename = filenameroot + 'anaerobe1_isoforms.fpkm_tracking'\n",
      "#fpkm_filename = filenameroot + 'anaerobe2_isoforms.fpkm_tracking'\n",
      "#fpkm_filename = filenameroot + 'rpoBisoforms.fpkm_tracking'"
     ],
     "language": "python",
     "metadata": {},
     "outputs": []
    },
    {
     "cell_type": "code",
     "collapsed": false,
     "input": [
      "# Minspans for iJO\n",
      "minspan_filename = filenameroot + 'MinSpanPathways.xlsx'\n",
      "minspan_list = ta.make_minspan_list(minspan_filename)"
     ],
     "language": "python",
     "metadata": {},
     "outputs": []
    },
    {
     "cell_type": "code",
     "collapsed": false,
     "input": [
      "# Minspans for core\n",
      "minspan_filename = filenameroot + 'minspan_EcoliCore.xlsx'\n",
      "minspan_list = ta.make_minspan_list(minspan_filename, '2013-11-18_adjust')"
     ],
     "language": "python",
     "metadata": {},
     "outputs": []
    },
    {
     "cell_type": "code",
     "collapsed": false,
     "input": [
      "# Quality control, which reactions from minspan can't be found in model\n",
      "reaction_not_found = []\n",
      "for minspan in minspan_list:\n",
      "    for reaction in minspan:\n",
      "        try:\n",
      "            model.reactions.get_by_id(reaction)\n",
      "        except:\n",
      "            if reaction not in reaction_not_found:\n",
      "                reaction_not_found.append(reaction)\n",
      "            else:\n",
      "                pass\n",
      "            \n",
      "# Should report none\n",
      "print reaction_not_found"
     ],
     "language": "python",
     "metadata": {},
     "outputs": []
    }
   ],
   "metadata": {}
  }
 ]
}