{
 "metadata": {
  "name": "rank_minspan"
 },
 "nbformat": 3,
 "nbformat_minor": 0,
 "worksheets": [
  {
   "cells": [
    {
     "cell_type": "code",
     "collapsed": false,
     "input": "import cobra as cp\nimport numpy as np\nimport pandas as pd\nfrom pickle import load # Can't get SBML to work, using pickle\n\ndef run_from_ipython():\n    '''Just checking if we can use ipython things.'''\n    try:\n        __IPYTHON__\n        return True\n    except NameError:\n        return False\n\nif run_from_ipython():\n    # I wanted to be clever but python doesn't like this even if it is in an if or try.\n    %cd /Users/jt/Desktop/palsson_rotation/data  \n    print 'Run from ipython'\nelse:\n    print 'Not run from ipython.'\n\nminspan_filename = 'MinSpanPathways.xlsx'\nsheetname = 'iJO1366'\nfpkm_filename = 'bop27isoforms.fpkm_tracking' \n#fpkm_filename = 'anaerobe1_isoforms.fpkm_tracking'\n#fpkm_filename = 'anaerobe2_isoforms.fpkm_tracking'\n#fpkm_filename = 'rpoBisoforms.fpkm_tracking'\nmodel_filename = 'iJO1366.pickle'",
     "language": "python",
     "metadata": {},
     "outputs": [
      {
       "output_type": "stream",
       "stream": "stdout",
       "text": "/Users/jt/Desktop/palsson_rotation/data\nRun from ipython\n"
      }
     ],
     "prompt_number": 210
    },
    {
     "cell_type": "code",
     "collapsed": false,
     "input": "# Get minspan.\nminspan_df = pd.read_excel(minspan_filename, sheetname, index_col=None, na_values=['NA'])\n\n# This processing should be automated.\n# Remove any rows that aren't gene names (aka the last line with pathway length)\nminspan_df = minspan_df.drop(minspan_df.index[-1])\n\n# Create a list of list of all the minspans. \nminspan_list = []\n\nfor col in minspan_df.columns[2:]: # One minspan per column, starts on 3rd column.\n    #             Entire col of names    Index of rows with values (not NaN)         No labels\n    now_minspan = minspan_df.loc[:,'Rxn'][np.logical_not(np.isnan(minspan_df.loc[:,col]))].values\n    now_minspan = now_minspan.tolist() # No need to be numpy arrays. \n    # Change from unicode... not sure if this is wise.\n    now_minspan = [now_minspan[i].encode('ascii','ignore') for i in range(len(now_minspan))]\n    minspan_list.append(now_minspan)\n    ",
     "language": "python",
     "metadata": {},
     "outputs": [],
     "prompt_number": 211
    },
    {
     "cell_type": "code",
     "collapsed": false,
     "input": "# Get model.\nf = open(model_filename, \"rb\")\nmodel = load(f)\nf.close()",
     "language": "python",
     "metadata": {},
     "outputs": [],
     "prompt_number": 212
    },
    {
     "cell_type": "code",
     "collapsed": false,
     "input": "# Get fpkm values per gene and convert into dict. \nfpkm_df = pd.read_csv(fpkm_filename, delimiter='\\t') \n# Convert to dict of ids and FPKM values.\ngene_fpkm_dict = dict(zip(fpkms_df.tracking_id, fpkms_df.FPKM))",
     "language": "python",
     "metadata": {},
     "outputs": [],
     "prompt_number": 229
    },
    {
     "cell_type": "code",
     "collapsed": false,
     "input": "# Create a dict with reactions as keys and fpkms as values.\nreaction_fpkm_dict = {} # Will hold fpkm values per reaction based on combination of genes.\n\nfor reaction in model.reactions:\n    gene_list = reaction.get_gene()\n    # Combine fpkm data for involved genes. \n    fpkm_combined = 0.0\n    for gene in gene_list:\n        try:\n            fpkm_combined += gene_fpkm_dict[str(gene)] # Just add them. This makes since for or, but not and...\n        except:\n            pass\n            #print \"%s (from %s) is not in fpkm_gene_dict.\" % (str(gene), str(reaction.id))\n    reaction_fpkm_dict[reaction.id] = fpkm_combined\n",
     "language": "python",
     "metadata": {},
     "outputs": [],
     "prompt_number": 238
    },
    {
     "cell_type": "code",
     "collapsed": false,
     "input": "# Now to iterate over minspans, averaging fpkm values from involved reactions. \nminspan_fpkm_list = []\nfor minspan in minspan_list:\n    minspan_fpkm = 0.0\n    no_data_count = 0 # Don't average in 0's where data does not exist. \n    for reaction in minspan:\n        try: \n            minspan_fpkm += fpkm_reaction_dict[reaction]\n        except: # A lot don't match becaues of SBML naming vs names from the minspan file\n            no_data_count += 1\n            #print \"%s is not in fpkm_reaction_dict.\" % str(reaction)\n    minspan_fpkm = minspan_fpkm / (len(minspan) - no_data_count) # Just aveage for now. \n    minspan_fpkm_list.append(minspan_fpkm)\n\n# Create list of tuples with fpkm values and then the minspan list\nranked_minspans = zip(minspan_fpkm_list, minspan_list)\nranked_minspans = sorted(ranked_minspans, reverse=True)\nranked_minspans = zip(range(1,len(ranked_minspans)+1), ranked_minspans)\n",
     "language": "python",
     "metadata": {},
     "outputs": [],
     "prompt_number": 236
    },
    {
     "cell_type": "code",
     "collapsed": false,
     "input": "# Print to file\noutput_filename = 'output_minspan_rank_%s.txt' % fpkm_filename\nf = open(output_filename, 'w')\nfor item in ranked_minspans:\n    f.write(\"%s\\n\" % str(item))\nf.close()\n",
     "language": "python",
     "metadata": {},
     "outputs": [],
     "prompt_number": 237
    },
    {
     "cell_type": "code",
     "collapsed": false,
     "input": "# scrap \n\n#rxn_test = model.reactions.get_by_id('GLCptspp')\n#print rxn_test\n#print rxn_test.get_gene(), type(rxn_test.get_gene())\n#print rxn_test.annotation\n#print rxn_test.gene_reaction_rule, type(rxn_test.gene_reaction_rule)\n#print rxn_test.notes\n#print rxn_test.parse_gene_association(rxn_test.gene_reaction_rule)\n\n#fpkm_reaction_list.append(fpkm_combined)\n#print type(fpkm_reaction_list), fpkm_reaction_list\n\n# Marry reaction names and their values to make dictionary \n#fpkm_reaction_dict = dict(zip(iJO1366.reactions, fpkm_reaction_list))\n\n# Format and type check.     \n#print minspan_list[:5], type(minspan_list[:5])\n\n#print ranked_minspans[:5]\n#type(str(ranked_minspans[1]))\n#print str(ranked_minspans[1])\n\n#print fpkm_minspan_list\n\n    #print fpkm_combined\n\n#print fpkm_reaction_dict\n\n#print(\"gene:\", gene, \"fpkm:\", fpkm_gene_dict[str(gene)])\n\n#print(gene_list)\n\n# Format and type check.     \n#print minspan_list[:5], type(minspan_list[:5])\n\n#print(fpkms.loc[:10,['tracking_id','FPKM']], type(fpkms.loc[:10,['tracking_id','FPKM']])) # Looking at what matters.\n\n#print fpkm_gene_dict['b2215']\n#fpkm_gene_dict['s0001']",
     "language": "python",
     "metadata": {},
     "outputs": []
    }
   ],
   "metadata": {}
  }
 ]
}