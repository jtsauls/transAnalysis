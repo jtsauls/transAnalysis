{
 "metadata": {
  "name": "find_bottlenecks_pfba"
 },
 "nbformat": 3,
 "nbformat_minor": 0,
 "worksheets": [
  {
   "cells": [
    {
     "cell_type": "markdown",
     "metadata": {},
     "source": [
      "### Introduction"
     ]
    },
    {
     "cell_type": "code",
     "collapsed": false,
     "input": [
      "from IPython.display import HTML"
     ],
     "language": "python",
     "metadata": {},
     "outputs": []
    },
    {
     "cell_type": "code",
     "collapsed": false,
     "input": [
      "import numpy as np\n",
      "import pandas as pd\n",
      "from pickle import load\n",
      "import cobra as cp\n",
      "\n",
      "# Have to direct to folder to find module\n",
      "import transAnalysis as ta\n",
      "#import fluxAnalysis\n",
      "import pfba_example\n",
      "\n",
      "filenameroot = \\\n",
      "    '/Users/zaking/sharedrepos/transAnalysis/data/'\n",
      "\n",
      "# This makes it so changed modules are reloaded before lines are run     \n",
      "%load_ext autoreload\n",
      "%autoreload 2"
     ],
     "language": "python",
     "metadata": {},
     "outputs": []
    },
    {
     "cell_type": "code",
     "collapsed": false,
     "input": [
      "# Get model\n",
      "model_filename = '/Users/zaking/models/iJO1366.pickle'# + 'iJO1366.pickle'\n",
      "f = open(model_filename, \"rb\")\n",
      "model_root = load(f)\n",
      "f.close()"
     ],
     "language": "python",
     "metadata": {},
     "outputs": []
    },
    {
     "cell_type": "code",
     "collapsed": false,
     "input": [
      "model = model_root.copy()"
     ],
     "language": "python",
     "metadata": {},
     "outputs": []
    },
    {
     "cell_type": "code",
     "collapsed": false,
     "input": [
      "# Make the fpkm to reactions dict\n",
      "fpkm_filename = filenameroot + 'bop27isoforms.fpkm_tracking' \n",
      "#fpkm_filename = filenameroot + 'anaerobe1_isoforms.fpkm_tracking'\n",
      "#fpkm_filename = filenameroot + 'anaerobe2_isoforms.fpkm_tracking'\n",
      "#fpkm_filename = filenameroot + 'rpoBisoforms.fpkm_tracking'\n",
      "\n",
      "gene_fpkm_dict = ta.make_gene_fpkm_dict(fpkm_filename)\n",
      "reaction_fpkm_dict = ta.make_reaction_fpkm_dict(model, gene_fpkm_dict)\n",
      "\n",
      "# Minspans and model are the same across everything\n",
      "minspan_filename = filenameroot + 'MinSpanPathways.xlsx'\n",
      "minspan_list = ta.make_minspan_list(minspan_filename)\n",
      "\n",
      "# Creat the dictionary linking fpkms to reactions. \n",
      "reaction_fpkm_dict = ta.make_reaction_fpkm_dict(model, \n",
      "                                                gene_fpkm_dict, 0)"
     ],
     "language": "python",
     "metadata": {},
     "outputs": []
    },
    {
     "cell_type": "code",
     "collapsed": false,
     "input": [
      "# Pull out the average per minspan. \n",
      "minspan_avg_w_rxn = ta.make_minspan_fpkm_list(\n",
      "                   minspan_list, reaction_fpkm_dict, sort=False)\n",
      "minspan_averages = zip(*minspan_avg_w_rxn)[0]\n",
      "\n",
      "# This needs work, need to calculate w/o respect to highly connected\n",
      "# reactions\n",
      "#print minspan_averages[:5]"
     ],
     "language": "python",
     "metadata": {},
     "outputs": []
    },
    {
     "cell_type": "code",
     "collapsed": false,
     "input": [
      "# Make a list of lists of fpkm values per reaction per minspan\n",
      "rxn_fpkms_by_minspan = []\n",
      "problem_rxn_names = []\n",
      "for minspan in minspan_list:\n",
      "    temp_fpkm_list = []\n",
      "    for reaction in minspan:\n",
      "        try:\n",
      "            # Need to catch nan so can compare min of list to average\n",
      "            if np.isnan(reaction_fpkm_dict[reaction]):\n",
      "                temp_fpkm_list.append('no data')\n",
      "            else:\n",
      "                temp_fpkm_list.append(reaction_fpkm_dict[reaction])\n",
      "        except:\n",
      "            if reaction not in problem_rxn_names:\n",
      "                problem_rxn_names.append(reaction)\n",
      "    rxn_fpkms_by_minspan.append(temp_fpkm_list)"
     ],
     "language": "python",
     "metadata": {},
     "outputs": []
    },
    {
     "cell_type": "code",
     "collapsed": false,
     "input": [
      "if True:\n",
      "    print minspan_averages[:5]\n",
      "    print rxn_fpkms_by_minspan[:5]\n",
      "    print len(problem_rxn_names)"
     ],
     "language": "python",
     "metadata": {},
     "outputs": []
    },
    {
     "cell_type": "code",
     "collapsed": false,
     "input": [
      "# Find bottleneck cases, where the minimum value of a minspan is less\n",
      "# that 0.1% of the average for the minspan. And there is flux in \n",
      "# Every reaction. \n",
      "bottlenecks = []\n",
      "i = 0\n",
      "for minspan_avg in minspan_averages:\n",
      "    # Stats on fpkms for rxns in the minspan\n",
      "    min_fpkm = min(rxn_fpkms_by_minspan[i])\n",
      "    if min_fpkm < 0.001 * minspan_avg:\n",
      "        bottlenecks.append(i)\n",
      "    i += 1\n",
      "    \n",
      "print('Number of bottlenecks', len(bottlenecks))\n",
      "\n",
      "# List of bottleneck minspans. \n",
      "bottleneck_list = np.array(minspan_list)\n",
      "bottleneck_list = bottleneck_list[bottlenecks]"
     ],
     "language": "python",
     "metadata": {},
     "outputs": []
    },
    {
     "cell_type": "code",
     "collapsed": false,
     "input": [
      "if True:\n",
      "    index = 115\n",
      "    print bottlenecks[1]\n",
      "    print np.array(rxn_fpkms_by_minspan)[index]\n",
      "    print ('Minspan Averages', \n",
      "           np.array(minspan_averages)[index])\n",
      "    print np.array(minspan_list)[index]\n",
      "    #print bottleneck_list\n",
      "    print min(np.array(rxn_fpkms_by_minspan)[index])\n",
      "    print reaction_fpkm_dict['EX_2ddglcn_e']"
     ],
     "language": "python",
     "metadata": {},
     "outputs": []
    },
    {
     "cell_type": "code",
     "collapsed": false,
     "input": [
      "# Get pfba fluxes for wt pFBA and Eflux pFBA\n",
      "pfba_sol = pfba_example.run_pfba(model,\n",
      "                                 'Ec_biomass_iJO1366_core_53p95M')\n",
      "if True:\n",
      "    print('pFBA f', pfba_sol['Ec_biomass_iJO1366_core_53p95M'])\n",
      "    print('pFBA glucose uptakes', pfba_sol['EX_glc_e'])\n",
      "    print('pFBA sum of fluxes', sum(np.abs(pfba_sol.values())))\n",
      "    model.optimize()\n",
      "    print('FBA sum of fluxes', sum(np.abs(model.solution.x)))"
     ],
     "language": "python",
     "metadata": {},
     "outputs": []
    },
    {
     "cell_type": "code",
     "collapsed": false,
     "input": [
      " # There is no control of glu. Meaningful below. \n",
      "print ('Uptake on glucose from fpkm', reaction_fpkm_dict['EX_glc_e'])"
     ],
     "language": "python",
     "metadata": {},
     "outputs": []
    },
    {
     "cell_type": "code",
     "collapsed": false,
     "input": [
      "r = str(model.reactions.GAPD)"
     ],
     "language": "python",
     "metadata": {},
     "outputs": []
    },
    {
     "cell_type": "code",
     "collapsed": false,
     "input": [
      "Eflux_model = model.copy()\n",
      "\n",
      "# Now do Eflux\n",
      "# Adjust bounds \n",
      "v=list(reaction_fpkm_dict.values())\n",
      "k=list(reaction_fpkm_dict.keys())\n",
      "v = abs(v / max(v))  # abs should be superfulous here\n",
      "fpkm_array = zip(k, v)\n",
      "\n",
      "# Optional step that then requires weighting later. \n",
      "# Unlike the matlab implementation, this respects import bounds.\n",
      "mode = False\n",
      "# Otherwise does it like paper eflux. \n",
      "# Assumes that max value is 1000\n",
      "if mode:\n",
      "    for reaction in Eflux_model.reactions:\n",
      "        if reaction.lower_bound < 0:\n",
      "            reaction.lower_bound = reaction.lower_bound / 1000\n",
      "        else: \n",
      "            reaction.lower_bound = 0\n",
      "        if reaction.upper_bound > 0:\n",
      "            reaction.upper_bound = reaction.upper_bound / 1000\n",
      "        else:\n",
      "            reaction.upper_bound = 0\n",
      "else:\n",
      "    for reaction in Eflux_model.reactions:\n",
      "        #if (reaction.upper_bound!=1000 and reaction.upper_bound!=0): print reaction, reaction.upper_bound; continue\n",
      "        #if (reaction.lower_bound!=-1000 and reaction.lower_bound!=0): print reaction.name, reaction.lower_bound; continue\n",
      "        if reaction.lower_bound < 0:\n",
      "            reaction.lower_bound = -1\n",
      "        else: \n",
      "            reaction.lower_bound = 0\n",
      "        if reaction.upper_bound > 0:\n",
      "            reaction.upper_bound = 1\n",
      "        else:\n",
      "            reaction.upper_bound = 0\n",
      "        \n",
      "\n",
      "# Would be faster to just remove nan before looping\n",
      "for rxn in fpkm_array:  # fpkm_array holds fpkm data\n",
      "    if not np.isnan(rxn[1]):\n",
      "        rxn_name = rxn[0]\n",
      "        cobrarxn = Eflux_model.reactions.get_by_id(rxn_name)\n",
      "        cobrarxn.lower_bound = cobrarxn.lower_bound * rxn[1]\n",
      "        cobrarxn.upper_bound = cobrarxn.upper_bound * rxn[1]\n",
      "    else:\n",
      "        pass\n",
      "        # print rxn[0] + ' had val nan'\n",
      "    if str(cobrarxn)==r: print cobrarxn.upper_bound, cobrarxn.lower_bound\n",
      "        \n",
      "# pFBA for adjusted model\n",
      "Eflux_pfba_sol = pfba_example.run_pfba(Eflux_model,\n",
      "                 'Ec_biomass_iJO1366_core_53p95M')"
     ],
     "language": "python",
     "metadata": {},
     "outputs": []
    },
    {
     "cell_type": "code",
     "collapsed": false,
     "input": [
      "if True:\n",
      "    print('Eflux pFBA f', \n",
      "          Eflux_pfba_sol['Ec_biomass_iJO1366_core_53p95M'])\n",
      "    print('Eflux pFBA glucose uptakes', Eflux_pfba_sol['EX_glc_e'])\n",
      "    print('Eflux pFBA sum of fluxes', \n",
      "          sum(np.abs(Eflux_pfba_sol.values())))\n",
      "    Eflux_model.optimize()\n",
      "    print('Eflux FBA f', Eflux_model.solution.f)\n",
      "    print('Eflux FBA glucose uptake', \n",
      "          Eflux_model.solution.x_dict['EX_glc_e'])\n",
      "    print('Eflux FBA sum of fluxes', sum(np.abs(Eflux_model.solution.x)))"
     ],
     "language": "python",
     "metadata": {},
     "outputs": []
    },
    {
     "cell_type": "code",
     "collapsed": false,
     "input": [
      "# Weight Eflux solution by glucose uptake \n",
      "scale_reaction_name = 'EX_glc_e'\n",
      "# Should be -10.0 (what it was in the original model\n",
      "scale_value = pfba_sol[scale_reaction_name]\n",
      "scale_flux = Eflux_pfba_sol[scale_reaction_name]\n",
      "scale_by= abs(scale_value / scale_flux)\n",
      "\n",
      "print('Scale stats', scale_reaction_name, scale_value, \n",
      "      scale_flux, scale_by)\n",
      "\n",
      "# These are the pFBA fluxes\n",
      "for k, v in Eflux_pfba_sol.iteritems():\n",
      "    Eflux_pfba_sol[k] = v * scale_by\n",
      "    \n",
      "# Also figure out what the scaled bounds would be.\n",
      "for reaction in Eflux_model.reactions:  # fpkm_array holds fpkm data\n",
      "    reaction.lower_bound = reaction.lower_bound * scale_by\n",
      "    reaction.upper_bound = reaction.upper_bound * scale_by\n"
     ],
     "language": "python",
     "metadata": {},
     "outputs": []
    },
    {
     "cell_type": "code",
     "collapsed": false,
     "input": [
      "if True:\n",
      "    print('Eflux pFBA f', \n",
      "          Eflux_pfba_sol['Ec_biomass_iJO1366_core_53p95M'])\n",
      "    print('Eflux pFBA glucose uptakes', Eflux_pfba_sol['EX_glc_e'])\n",
      "    print('Eflux pFBA sum of fluxes', \n",
      "          sum(np.abs(Eflux_pfba_sol.values())))\n",
      "    print('pFBA f', pfba_sol['Ec_biomass_iJO1366_core_53p95M'])\n",
      "    print('pFBA glucose uptakes', pfba_sol['EX_glc_e'])\n",
      "    print('pFBA sum of fluxes', sum(np.abs(pfba_sol.values())))"
     ],
     "language": "python",
     "metadata": {},
     "outputs": []
    },
    {
     "cell_type": "code",
     "collapsed": false,
     "input": [
      "print ('Index of bottlenecks (minspan number)', bottlenecks)"
     ],
     "language": "python",
     "metadata": {},
     "outputs": []
    },
    {
     "cell_type": "code",
     "collapsed": false,
     "input": [
      "# Need to find a minspan that is both a bottleneck AND\n",
      "# has flux in all reactions.\n",
      "bottlenecks_w_flux = []\n",
      "bottlenecks_wo_flux = []\n",
      "for minspan_id in bottlenecks:\n",
      "    Eflux_flux = []\n",
      "    names = pd.Series(np.array(minspan_list)[minspan_id])\n",
      "    for reaction_name in names:\n",
      "        #flux = Eflux_pfba_sol[reaction_name]\n",
      "        flux = Eflux_model.solution.x_dict[reaction_name]\n",
      "        Eflux_flux.append(flux)\n",
      "    #print Eflux_flux\n",
      "    #print min(np.abs(Eflux_flux))\n",
      "    if min(np.abs(Eflux_flux)) > 0:\n",
      "        bottlenecks_w_flux.append(minspan_id)\n",
      "        #print Eflux_flux\n",
      "    else:\n",
      "        bottlenecks_wo_flux.append(minspan_id)\n",
      "\n",
      "if True:       \n",
      "    print('Bottlenecks w/ flux', bottlenecks_w_flux)\n",
      "    print('No. of Bottlenecks w/o flux', len(bottlenecks_wo_flux)) "
     ],
     "language": "python",
     "metadata": {},
     "outputs": []
    },
    {
     "cell_type": "code",
     "collapsed": false,
     "input": [
      "# Now with bottlenecks and solutions, give way to look at data\n",
      "# Important variables\n",
      "# model - the model with normal bounds\n",
      "# pfba_sol - the dict from pfba solution\n",
      "# Eflux_model - the model with Eflux bounds\n",
      "# Eflux_pfba_sol - the dict from eflux pfba sol\n",
      "# fpkm_array - normalized list of tuples with reaction name and fpkm\n",
      "# rxn_fpkms_by_minspan - dict with the fpkms per rxn per minspan\n",
      "\n",
      "# Reaction to look at\n",
      "index = 125\n",
      "print minspan_averages[125]\n",
      "\n",
      "# Make series\n",
      "names = pd.Series(np.array(minspan_list)[index])\n",
      "pFBA_flux = []\n",
      "pFBA_lb = []\n",
      "pFBA_ub = []\n",
      "Eflux_flux = []\n",
      "Eflux_lb = []\n",
      "Eflux_ub = []\n",
      "fba_flux = []\n",
      "fba_lb = []\n",
      "fba_ub = []\n",
      "\n",
      "fpkms = pd.Series(np.array(rxn_fpkms_by_minspan)[index])\n",
      "for reaction_name in names:\n",
      "    # Get information from normal model\n",
      "    reaction = model.reactions.get_by_id(reaction_name)\n",
      "    pFBA_flux.append(pfba_sol[reaction_name])\n",
      "    pFBA_lb.append(reaction.lower_bound)\n",
      "    pFBA_ub.append(reaction.upper_bound)\n",
      "    # Get information from Eflux model\n",
      "    reaction = Eflux_model.reactions.get_by_id(reaction_name)\n",
      "    Eflux_flux.append(Eflux_pfba_sol[reaction_name])\n",
      "    Eflux_lb.append(reaction.lower_bound)\n",
      "    Eflux_ub.append(reaction.upper_bound)\n",
      "    # Get information from Eflux model\n",
      "    reaction = model.reactions.get_by_id(reaction_name)\n",
      "    fba_flux.append(model.solution.x_dict[reaction_name])\n",
      "    fba_lb.append(reaction.lower_bound)\n",
      "    fba_ub.append(reaction.upper_bound)\n",
      "    \n",
      "pFBA_flux = pd.Series(np.array(pFBA_flux))\n",
      "pFBA_lb = pd.Series(np.array(pFBA_lb))\n",
      "pFBA_ub = pd.Series(np.array(pFBA_ub))\n",
      "Eflux_flux = pd.Series(np.array(Eflux_flux))\n",
      "Eflux_lb = pd.Series(np.array(Eflux_lb))\n",
      "Eflux_ub = pd.Series(np.array(Eflux_ub))\n",
      "fba_flux = pd.Series(np.array(fba_flux))\n",
      "fba_lb = pd.Series(np.array(fba_lb))\n",
      "fba_ub = pd.Series(np.array(fba_ub))\n",
      "\n",
      "df = {'Names' : names,\n",
      "      'pFBA flux' : pFBA_flux,\n",
      "      'pFBA lb' : pFBA_lb,\n",
      "      'pFBA ub' : pFBA_ub,\n",
      "      'Eflux flux' : Eflux_flux,\n",
      "      'Eflux lb' : Eflux_lb,\n",
      "      'Eflux ub' : Eflux_ub,\n",
      "      'fba flux' : fba_flux,\n",
      "      'fba lb' : fba_lb,\n",
      "      'fba ub' : fba_ub,\n",
      "      'FPKMs' : fpkms}\n",
      "\n",
      "df = pd.DataFrame(df)\n",
      "HTML(df.to_html(float_format=lambda x: '%10.2f' % x))"
     ],
     "language": "python",
     "metadata": {},
     "outputs": []
    },
    {
     "cell_type": "code",
     "collapsed": false,
     "input": [],
     "language": "python",
     "metadata": {},
     "outputs": []
    },
    {
     "cell_type": "code",
     "collapsed": false,
     "input": [
      "# Scraps\n",
      "\n",
      "# For testing adjust of eflux bounds by scale. \n",
      "x = 0\n",
      "for reaction in Eflux_model.reactions:\n",
      "    print (reaction.lower_bound, reaction.upper_bound)\n",
      "    x += 1\n",
      "    if x > 10:\n",
      "        break"
     ],
     "language": "python",
     "metadata": {},
     "outputs": []
    },
    {
     "cell_type": "code",
     "collapsed": false,
     "input": [],
     "language": "python",
     "metadata": {},
     "outputs": []
    },
    {
     "cell_type": "code",
     "collapsed": false,
     "input": [
      "## PSEUDO\n",
      "\n",
      "output = []\n",
      "def run_again(model):\n",
      "    for reaction, x in zip(model.reactions, fba_eflux_fluxes):\n",
      "        temp = model.copy()\n",
      "        temp.reactions.get_by_id(reaction).upper_bound = 1000\n",
      "        temp.reactions.get_by_id(reaction).lower_bound = -1000\n",
      "        temp.optimize() # fba\n",
      "        output.append({str(reaction): temp.solution.f - fba_eflux_f})\n",
      "    return sorted(output)[\"reaction\"]\n",
      "\n",
      "reaction_with_max_difference = run_again(wt_model)\n",
      "    \n",
      "        #ALSO\n",
      "        \n",
      "loop:\n",
      "    #release the highest diff reaction\n",
      "    r = reaction_with_max_difference\n",
      "    temp_2.reactions.get_by_id(r).upper_bound = 1000\n",
      "    temp_2.reactions.get_by_id(r).lower_bound = -1000\n",
      "    run_again(temp_2)"
     ],
     "language": "python",
     "metadata": {},
     "outputs": []
    },
    {
     "cell_type": "markdown",
     "metadata": {},
     "source": [
      "col1       | col2     | col3\n",
      "\n",
      "reaction   | minspan  | avg_fpkm\n",
      "\n",
      "\"\"         | minspan2 | avg_fpkm\n",
      "\n",
      "for bottlenecks"
     ]
    },
    {
     "cell_type": "markdown",
     "metadata": {},
     "source": [
      "1. find bottlenecks by loosening bounds on Eflux recursively\n",
      "2. show all minspans for those bottlenecks\n",
      "\n",
      "* Find all reactions in single minspan\n",
      "* AND all reaction in 2 minspans\n",
      "\n",
      "* recalculate avg_fpkm's while ignoring hub / high-degree reactions, and then compare bottlecks to o.g. avg_fpkm\n",
      "\n",
      "{'reaction': unique_integer, ...}"
     ]
    },
    {
     "cell_type": "code",
     "collapsed": false,
     "input": [],
     "language": "python",
     "metadata": {},
     "outputs": []
    }
   ],
   "metadata": {}
  }
 ]
}